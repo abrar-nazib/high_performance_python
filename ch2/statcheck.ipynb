{
 "cells": [
  {
   "cell_type": "code",
   "execution_count": 2,
   "id": "2b0ed618",
   "metadata": {},
   "outputs": [],
   "source": [
    "import pstats\n",
    "p =pstats.Stats('profile.stats')"
   ]
  },
  {
   "cell_type": "code",
   "execution_count": 3,
   "id": "7eb0f91a",
   "metadata": {},
   "outputs": [
    {
     "data": {
      "text/plain": [
       "<pstats.Stats at 0x1987d88c3e0>"
      ]
     },
     "execution_count": 3,
     "metadata": {},
     "output_type": "execute_result"
    }
   ],
   "source": [
    "p.sort_stats('cumulative')"
   ]
  },
  {
   "cell_type": "code",
   "execution_count": 4,
   "id": "489f9cda",
   "metadata": {},
   "outputs": [
    {
     "name": "stdout",
     "output_type": "stream",
     "text": [
      "Thu May 15 21:47:34 2025    profile.stats\n",
      "\n",
      "         35681877 function calls in 11.821 seconds\n",
      "\n",
      "   Ordered by: cumulative time\n",
      "\n",
      "   ncalls  tottime  percall  cumtime  percall filename:lineno(function)\n",
      "        1    0.000    0.000   11.820   11.820 {built-in method builtins.exec}\n",
      "        1    0.022    0.022   11.820   11.820 .\\ch2\\julia_set_wrapped.py:1(<module>)\n",
      "        1    0.697    0.697   11.799   11.799 .\\ch2\\julia_set_wrapped.py:37(calc_pure_python)\n",
      "        1    0.000    0.000   10.823   10.823 .\\ch2\\julia_set_wrapped.py:7(wrapper)\n",
      "        1    7.101    7.101   10.823   10.823 .\\ch2\\julia_set_wrapped.py:22(calculate_z_serial_purepython)\n",
      " 33679860    3.722    0.000    3.722    0.000 {built-in method builtins.abs}\n",
      "  2002000    0.275    0.000    0.275    0.000 {method 'append' of 'list' objects}\n",
      "        1    0.004    0.004    0.004    0.004 {built-in method builtins.sum}\n",
      "        3    0.001    0.000    0.001    0.000 {built-in method builtins.print}\n",
      "        1    0.000    0.000    0.000    0.000 {method 'disable' of '_lsprof.Profiler' objects}\n",
      "        4    0.000    0.000    0.000    0.000 {built-in method builtins.len}\n",
      "        2    0.000    0.000    0.000    0.000 {built-in method time.time}\n",
      "        1    0.000    0.000    0.000    0.000 .\\ch2\\julia_set_wrapped.py:6(timefn)\n",
      "\n",
      "\n"
     ]
    },
    {
     "data": {
      "text/plain": [
       "<pstats.Stats at 0x1987d88c3e0>"
      ]
     },
     "execution_count": 4,
     "metadata": {},
     "output_type": "execute_result"
    }
   ],
   "source": [
    "p.print_stats()"
   ]
  },
  {
   "cell_type": "code",
   "execution_count": 5,
   "id": "4ec52f54",
   "metadata": {},
   "outputs": [
    {
     "name": "stdout",
     "output_type": "stream",
     "text": [
      "   Ordered by: cumulative time\n",
      "\n",
      "Function                                                      was called by...\n",
      "                                                                  ncalls  tottime  cumtime\n",
      "{built-in method builtins.exec}                               <- \n",
      ".\\ch2\\julia_set_wrapped.py:1(<module>)                        <-       1    0.022   11.820  {built-in method builtins.exec}\n",
      ".\\ch2\\julia_set_wrapped.py:37(calc_pure_python)               <-       1    0.697   11.799  .\\ch2\\julia_set_wrapped.py:1(<module>)\n",
      ".\\ch2\\julia_set_wrapped.py:7(wrapper)                         <-       1    0.000   10.823  .\\ch2\\julia_set_wrapped.py:37(calc_pure_python)\n",
      ".\\ch2\\julia_set_wrapped.py:22(calculate_z_serial_purepython)  <-       1    7.101   10.823  .\\ch2\\julia_set_wrapped.py:7(wrapper)\n",
      "{built-in method builtins.abs}                                <- 33679860    3.722    3.722  .\\ch2\\julia_set_wrapped.py:22(calculate_z_serial_purepython)\n",
      "{method 'append' of 'list' objects}                           <- 2002000    0.275    0.275  .\\ch2\\julia_set_wrapped.py:37(calc_pure_python)\n",
      "{built-in method builtins.sum}                                <-       1    0.004    0.004  .\\ch2\\julia_set_wrapped.py:37(calc_pure_python)\n",
      "{built-in method builtins.print}                              <-       1    0.000    0.000  .\\ch2\\julia_set_wrapped.py:7(wrapper)\n",
      "                                                                       2    0.000    0.000  .\\ch2\\julia_set_wrapped.py:37(calc_pure_python)\n",
      "{method 'disable' of '_lsprof.Profiler' objects}              <- \n",
      "{built-in method builtins.len}                                <-       2    0.000    0.000  .\\ch2\\julia_set_wrapped.py:22(calculate_z_serial_purepython)\n",
      "                                                                       2    0.000    0.000  .\\ch2\\julia_set_wrapped.py:37(calc_pure_python)\n",
      "{built-in method time.time}                                   <-       2    0.000    0.000  .\\ch2\\julia_set_wrapped.py:7(wrapper)\n",
      ".\\ch2\\julia_set_wrapped.py:6(timefn)                          <-       1    0.000    0.000  .\\ch2\\julia_set_wrapped.py:1(<module>)\n",
      "\n",
      "\n"
     ]
    },
    {
     "data": {
      "text/plain": [
       "<pstats.Stats at 0x1987d88c3e0>"
      ]
     },
     "execution_count": 5,
     "metadata": {},
     "output_type": "execute_result"
    }
   ],
   "source": [
    "p.print_callers()"
   ]
  },
  {
   "cell_type": "code",
   "execution_count": null,
   "id": "a6506cac",
   "metadata": {},
   "outputs": [],
   "source": []
  }
 ],
 "metadata": {
  "kernelspec": {
   "display_name": "base",
   "language": "python",
   "name": "python3"
  },
  "language_info": {
   "codemirror_mode": {
    "name": "ipython",
    "version": 3
   },
   "file_extension": ".py",
   "mimetype": "text/x-python",
   "name": "python",
   "nbconvert_exporter": "python",
   "pygments_lexer": "ipython3",
   "version": "3.12.3"
  }
 },
 "nbformat": 4,
 "nbformat_minor": 5
}
